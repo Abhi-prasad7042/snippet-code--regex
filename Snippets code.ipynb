{
 "cells": [
  {
   "cell_type": "markdown",
   "id": "05b70bc1",
   "metadata": {},
   "source": [
    "## Snippets code for regex\n",
    "\n",
    "`.`      ---     Any Character Except New Line\n",
    "\n",
    "`\\d`     ---     Digit (0-9)\n",
    "\n",
    "`\\D`     ---    Not a Digit (0-9)\n",
    "\n",
    "`\\w`     ---     Word Character (a-z, A-z, 0-9, _ )\n",
    "\n",
    "`\\W`     ---     Not a Word Character\n",
    "\n",
    "`\\s`     ---     Whitespace (space, tab, newline)\n",
    "\n",
    "`\\S`     ---     Not Whitespace (space, tab, newline)\n",
    "\n",
    "`\\b`     ---     Word Boundary\n",
    "\n",
    "`\\B`     ---     Not a Word Boundary\n",
    "\n",
    "`^`      ---     Beginning of a String\n",
    "\n",
    "`$`      ---     End of a String\n",
    "\n",
    "`[]`     ---     Matches Characters in brackets\n",
    "\n",
    "`[^]`    ---     Matches Characters Not in\n",
    "\n",
    "`|`    ---  Either or\n",
    "\n",
    "`()`   --- Group\n"
   ]
  }
 ],
 "metadata": {
  "kernelspec": {
   "display_name": "Python 3 (ipykernel)",
   "language": "python",
   "name": "python3"
  },
  "language_info": {
   "codemirror_mode": {
    "name": "ipython",
    "version": 3
   },
   "file_extension": ".py",
   "mimetype": "text/x-python",
   "name": "python",
   "nbconvert_exporter": "python",
   "pygments_lexer": "ipython3",
   "version": "3.8.11"
  }
 },
 "nbformat": 4,
 "nbformat_minor": 5
}
